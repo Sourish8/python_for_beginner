{
  "nbformat": 4,
  "nbformat_minor": 0,
  "metadata": {
    "colab": {
      "name": "Untitled1.ipynb",
      "private_outputs": true,
      "provenance": [],
      "authorship_tag": "ABX9TyP6wVvzqoo1I8qL4Ga4QJ4C",
      "include_colab_link": true
    },
    "kernelspec": {
      "name": "python3",
      "display_name": "Python 3"
    },
    "language_info": {
      "name": "python"
    }
  },
  "cells": [
    {
      "cell_type": "markdown",
      "metadata": {
        "id": "view-in-github",
        "colab_type": "text"
      },
      "source": [
        "<a href=\"https://colab.research.google.com/github/Sourish8/python_for_beginner/blob/main/5.Conditional%20Logic%20and%20Loop.ipynb\" target=\"_parent\"><img src=\"https://colab.research.google.com/assets/colab-badge.svg\" alt=\"Open In Colab\"/></a>"
      ]
    },
    {
      "cell_type": "markdown",
      "source": [
        "conditional logic, loop , finding function in python"
      ],
      "metadata": {
        "id": "DeDdJBC2otDK"
      }
    },
    {
      "cell_type": "code",
      "source": [
        "cgpa = [5.0,3.2,3.58,2.59]\n",
        "summation = []\n",
        "for item in cgpa:\n",
        "  addition = item+item\n",
        "  summation.append(addition)\n",
        "  print(\"item =\",item,\"summation =\",summation)\n",
        "\n",
        "print(summation)"
      ],
      "metadata": {
        "id": "YQyyuWL4pLFa"
      },
      "execution_count": null,
      "outputs": []
    },
    {
      "cell_type": "code",
      "source": [
        "for item in range(1,100):\n",
        "  if item < 33:\n",
        "    print(\"you didn't get the pass mark. you secore is \",item)\n",
        "  elif item < 80 and item > 69:\n",
        "    print(\"you got A. secor is \", item)"
      ],
      "metadata": {
        "id": "uhC8KAT7p2CS"
      },
      "execution_count": null,
      "outputs": []
    },
    {
      "cell_type": "code",
      "source": [
        ""
      ],
      "metadata": {
        "id": "tYE0qB82D5t7"
      },
      "execution_count": null,
      "outputs": []
    }
  ]
}