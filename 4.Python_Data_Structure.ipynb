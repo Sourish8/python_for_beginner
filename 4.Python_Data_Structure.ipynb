{
  "nbformat": 4,
  "nbformat_minor": 0,
  "metadata": {
    "colab": {
      "name": "Python Data Structure.ipynb",
      "private_outputs": true,
      "provenance": [],
      "authorship_tag": "ABX9TyN1kFCP67zVTESA8Y7s2Mr7",
      "include_colab_link": true
    },
    "kernelspec": {
      "name": "python3",
      "display_name": "Python 3"
    },
    "language_info": {
      "name": "python"
    }
  },
  "cells": [
    {
      "cell_type": "markdown",
      "metadata": {
        "id": "view-in-github",
        "colab_type": "text"
      },
      "source": [
        "<a href=\"https://colab.research.google.com/github/Sourish8/python_for_beginner/blob/main/4.Python_Data_Structure.ipynb\" target=\"_parent\"><img src=\"https://colab.research.google.com/assets/colab-badge.svg\" alt=\"Open In Colab\"/></a>"
      ]
    },
    {
      "cell_type": "markdown",
      "source": [
        "**Python Data Structure : List , Tupple , Set , Dictionary**"
      ],
      "metadata": {
        "id": "GIhBsVJWDXsF"
      }
    },
    {
      "cell_type": "markdown",
      "source": [
        "*   Changes List Elements\n",
        "*   Add list elements\n",
        "*   Remove list elements\n",
        "\n",
        "\n",
        "\n",
        "\n",
        "\n",
        "\n",
        "\n",
        "\n",
        "\n",
        "\n",
        "\n",
        "\n",
        "\n"
      ],
      "metadata": {
        "id": "_kmVKcCjwJQy"
      }
    },
    {
      "cell_type": "code",
      "source": [
        "brothers = [\"Shimul\", 26, \"Saumik\", 25, \"Sourish\", 23, \"Deep\"]\n",
        "print(brothers)\n",
        "print(type(brothers))"
      ],
      "metadata": {
        "id": "_eSW9GvcHCrB"
      },
      "execution_count": null,
      "outputs": []
    },
    {
      "cell_type": "markdown",
      "source": [
        "List Slicing"
      ],
      "metadata": {
        "id": "sCM8swDZyq2x"
      }
    },
    {
      "cell_type": "code",
      "source": [
        "print(len(brothers))\n",
        "\n",
        "# [:6] is as same as [0:6]. we can also use [:6] as an alternate.\n",
        "print(brothers[0:6]) \n",
        "\n",
        "print(brothers[-2])\n",
        "\n",
        "print(brothers[-7:])"
      ],
      "metadata": {
        "id": "ZahOkEsMx-nB"
      },
      "execution_count": null,
      "outputs": []
    },
    {
      "cell_type": "code",
      "source": [
        "brothers.append(21)\n",
        "print(brothers)\n",
        "\n",
        "brothers.append(\"sovik\")\n",
        "print(brothers)"
      ],
      "metadata": {
        "id": "mQwL3QSGyxCS"
      },
      "execution_count": null,
      "outputs": []
    },
    {
      "cell_type": "code",
      "source": [
        "brothers.remove(\"sovik\")\n",
        "print(brothers)"
      ],
      "metadata": {
        "id": "H20f40APzruw"
      },
      "execution_count": null,
      "outputs": []
    },
    {
      "cell_type": "code",
      "source": [
        ""
      ],
      "metadata": {
        "id": "IoI2by9Z2Kz8"
      },
      "execution_count": null,
      "outputs": []
    }
  ]
}