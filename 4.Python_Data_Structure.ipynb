{
  "nbformat": 4,
  "nbformat_minor": 0,
  "metadata": {
    "colab": {
      "name": "Python Data Structure.ipynb",
      "private_outputs": true,
      "provenance": [],
      "authorship_tag": "ABX9TyORyqOVfaqiglJRVkDd1tK+",
      "include_colab_link": true
    },
    "kernelspec": {
      "name": "python3",
      "display_name": "Python 3"
    },
    "language_info": {
      "name": "python"
    }
  },
  "cells": [
    {
      "cell_type": "markdown",
      "metadata": {
        "id": "view-in-github",
        "colab_type": "text"
      },
      "source": [
        "<a href=\"https://colab.research.google.com/github/Sourish8/python_for_beginner/blob/main/4.Python_Data_Structure.ipynb\" target=\"_parent\"><img src=\"https://colab.research.google.com/assets/colab-badge.svg\" alt=\"Open In Colab\"/></a>"
      ]
    },
    {
      "cell_type": "markdown",
      "source": [
        "**Python Data Structure : List , Tupple , Set , Dictionary**"
      ],
      "metadata": {
        "id": "GIhBsVJWDXsF"
      }
    },
    {
      "cell_type": "markdown",
      "source": [
        "**List**"
      ],
      "metadata": {
        "id": "umEy5155Nk6S"
      }
    },
    {
      "cell_type": "markdown",
      "source": [
        "\n",
        "\n",
        "\n",
        "1.  **Changes List Elements**\n",
        "2.  **Add list elements**\n",
        "3.  **Remove list elements**\n",
        "\n",
        "\n",
        "\n",
        "\n",
        "\n",
        "\n",
        "\n",
        "\n",
        "\n",
        "\n",
        "\n",
        "\n",
        "\n",
        "\n"
      ],
      "metadata": {
        "id": "_kmVKcCjwJQy"
      }
    },
    {
      "cell_type": "code",
      "source": [
        "brothers = [\"Shimul\", 26, \"Saumik\", 25, \"Sourish\", 23, \"Deep\"]\n",
        "print(brothers)\n",
        "print(type(brothers))"
      ],
      "metadata": {
        "id": "_eSW9GvcHCrB"
      },
      "execution_count": null,
      "outputs": []
    },
    {
      "cell_type": "markdown",
      "source": [
        "**Check if the element presence in the string**"
      ],
      "metadata": {
        "id": "BZxbmN1W8eSh"
      }
    },
    {
      "cell_type": "code",
      "source": [
        "member = 25 in brothers\n",
        "print(member)\n",
        "print(\"sovik\" in brothers)"
      ],
      "metadata": {
        "id": "kRzlI_P68gKx"
      },
      "execution_count": null,
      "outputs": []
    },
    {
      "cell_type": "markdown",
      "source": [
        "**Checking length on a string**"
      ],
      "metadata": {
        "id": "oIfi3dof8GGf"
      }
    },
    {
      "cell_type": "code",
      "source": [
        "print(len(brothers))"
      ],
      "metadata": {
        "id": "xAMisHoT8HH8"
      },
      "execution_count": null,
      "outputs": []
    },
    {
      "cell_type": "markdown",
      "source": [
        "**List Slicing**"
      ],
      "metadata": {
        "id": "sCM8swDZyq2x"
      }
    },
    {
      "cell_type": "code",
      "source": [
        "# [:6] is as same as [0:6]. we can also use [:6] as an alternate.\n",
        "print(brothers[0:6]) \n",
        "\n",
        "print(brothers[-2])\n",
        "\n",
        "print(brothers[-7:])"
      ],
      "metadata": {
        "id": "ZahOkEsMx-nB"
      },
      "execution_count": null,
      "outputs": []
    },
    {
      "cell_type": "markdown",
      "source": [
        "**Add list element**"
      ],
      "metadata": {
        "id": "-ZJuU9X37D6M"
      }
    },
    {
      "cell_type": "code",
      "source": [
        "brothers.append(21)\n",
        "print(brothers)\n",
        "\n",
        "brothers.append(\"sovik\")\n",
        "print(brothers)"
      ],
      "metadata": {
        "id": "mQwL3QSGyxCS"
      },
      "execution_count": null,
      "outputs": []
    },
    {
      "cell_type": "markdown",
      "source": [
        "**Remove list element**"
      ],
      "metadata": {
        "id": "vs_QVCLJ7PbZ"
      }
    },
    {
      "cell_type": "code",
      "source": [
        "brothers.remove(\"sovik\")\n",
        "print(brothers)"
      ],
      "metadata": {
        "id": "H20f40APzruw"
      },
      "execution_count": null,
      "outputs": []
    },
    {
      "cell_type": "markdown",
      "source": [
        "**Reverse list element**"
      ],
      "metadata": {
        "id": "LIDxl74j699a"
      }
    },
    {
      "cell_type": "code",
      "source": [
        "brothers.reverse()\n",
        "print(brothers)"
      ],
      "metadata": {
        "id": "IoI2by9Z2Kz8"
      },
      "execution_count": null,
      "outputs": []
    },
    {
      "cell_type": "markdown",
      "source": [
        "**Sorting**"
      ],
      "metadata": {
        "id": "PsRtvGP3AGIK"
      }
    },
    {
      "cell_type": "code",
      "source": [
        "odd = [15,3,35,87,99,21,-1,-7]\n",
        "print(odd)\n",
        "print(sorted(odd))"
      ],
      "metadata": {
        "id": "KzyobeEx7Wv9"
      },
      "execution_count": null,
      "outputs": []
    },
    {
      "cell_type": "code",
      "source": [
        "print(sorted(odd, reverse = True))  #Dscending\n",
        "print(sorted(odd, reverse = False)) #ascending  Default"
      ],
      "metadata": {
        "id": "zkPy38-nAjff"
      },
      "execution_count": null,
      "outputs": []
    },
    {
      "cell_type": "markdown",
      "source": [
        "**How to find the minimum value, maximum value and total sum of a list?**"
      ],
      "metadata": {
        "id": "qabM8v4vF5n5"
      }
    },
    {
      "cell_type": "code",
      "source": [
        "even = [10,88,28,2,-8,-4]\n",
        "print(even)\n",
        "print(max(even))\n",
        "print(sum(even))\n",
        "print(min(even))"
      ],
      "metadata": {
        "id": "0yI3jMUSF01Z"
      },
      "execution_count": null,
      "outputs": []
    },
    {
      "cell_type": "markdown",
      "source": [
        "**What will happen if we add two list?**"
      ],
      "metadata": {
        "id": "Pv-oPPlOC5US"
      }
    },
    {
      "cell_type": "code",
      "source": [
        "name = [\"sourish\",\"tilok\",\"antu\",\"niloy\",\"anwar\",\"pritom\",\"mithun\"]\n",
        "number = [8,10,1,9,7,6,4]\n",
        "jersy = name + number\n",
        "print(jersy)\n",
        "print(len(jersy))\n",
        "\n",
        "print(jersy[-7:])\n",
        "print(jersy[:7])\n",
        "\n",
        "print(jersy[5])\n",
        "print(len(jersy[5]))"
      ],
      "metadata": {
        "id": "RDDKbitFA4V5"
      },
      "execution_count": null,
      "outputs": []
    },
    {
      "cell_type": "code",
      "source": [
        "name = [\"sourish\",\"tilok\",\"antu\",\"niloy\",\"anwar\",\"pritom\",\"mithun\"]\n",
        "height = [5.9,5.6,5.11,6,5.5,5.6,5.6]\n",
        "\n",
        "name_height = [name, height]\n",
        "\n",
        "print(name_height)\n",
        "print(len(name_height))\n",
        "\n",
        "print(name_height[1])\n",
        "print(name_height[0])\n",
        "\n",
        "print(name_height[0][4])\n",
        "print(len(name_height[0][3]))\n",
        "\n",
        "print(name_height[1][4])\n",
        "\n",
        "print(type(name_height[1][4]))"
      ],
      "metadata": {
        "id": "oMA2HN-s8_V7"
      },
      "execution_count": null,
      "outputs": []
    },
    {
      "cell_type": "markdown",
      "source": [
        "**How to count the frequency of a specific element in a list?**"
      ],
      "metadata": {
        "id": "VggcNokRF8mP"
      }
    },
    {
      "cell_type": "code",
      "source": [
        "even = [10,88,8,10,8,12,-4,2,8,2,-8,-4]\n",
        "print(len(even))\n",
        "\n",
        "print(even.count(8))\n",
        "\n",
        "print(even.index(8,5,12))"
      ],
      "metadata": {
        "id": "N0FVfLO7GObL"
      },
      "execution_count": null,
      "outputs": []
    },
    {
      "cell_type": "markdown",
      "source": [
        "**Insert a new element in the list**"
      ],
      "metadata": {
        "id": "d-8lWOG6GSEp"
      }
    },
    {
      "cell_type": "code",
      "source": [
        "number = [1, \"two\", 3.0 , [4-5j,6], \"Eight\"]\n",
        "number.insert(2,10)\n",
        "\n",
        "print(len(number))\n",
        "\n",
        "print(number)"
      ],
      "metadata": {
        "id": "cIix7cB8GfY2"
      },
      "execution_count": null,
      "outputs": []
    },
    {
      "cell_type": "markdown",
      "source": [
        "**Tupple**\n",
        "\n",
        "Tupple is a another type of data structure.\n",
        "\n",
        "**##What is difference between List and Tupple?**\n",
        "\n",
        "A list is mutable, and a tuple is immutable. We can change a list by adding or removing any element, but we can't change anything inside a tuple.\n",
        "\n",
        "List represented by \"[]\" and tuple reprented by \"()\""
      ],
      "metadata": {
        "id": "8BI-eBYCNZWE"
      }
    },
    {
      "cell_type": "code",
      "source": [
        "movie = (\"Zindegi\",\"Na\",\"Mileage\",\"Dobara\")\n",
        "print(type(movie))\n",
        "print(movie)"
      ],
      "metadata": {
        "id": "3QCW9m1h--W1"
      },
      "execution_count": null,
      "outputs": []
    },
    {
      "cell_type": "code",
      "source": [
        "print(movie[1])\n",
        "print(movie[1:4])\n",
        "print(len(movie[3]))\n",
        "print(movie[-2:])\n",
        "print(movie[-1])\n",
        "print(movie[3])"
      ],
      "metadata": {
        "id": "fsvokqMR_Cnd"
      },
      "execution_count": null,
      "outputs": []
    },
    {
      "cell_type": "code",
      "source": [
        "print(len(movie))\n",
        "# frequency\n",
        "print(movie.count(\"Na\"))\n",
        "# index\n",
        "print(movie.index(\"Dobara\"))"
      ],
      "metadata": {
        "id": "wA0komUZZIiD"
      },
      "execution_count": null,
      "outputs": []
    },
    {
      "cell_type": "code",
      "source": [
        "number= (0,18,5,7,2,8,2,7,2,4)\n",
        "print(number)\n",
        "\n",
        "#frequency (number of value in a variable)\n",
        "print(number.count(2)) \n",
        "\n",
        "#index (positions of a value)\n",
        "print(number.index(2))\n",
        "\n",
        "#sum\n",
        "print(sum(number))\n",
        "#maximum \n",
        "print(max(number))\n",
        "\n",
        "#minimum\n",
        "print(min(number))\n",
        "\n"
      ],
      "metadata": {
        "id": "kxnqr0vOUFaQ"
      },
      "execution_count": null,
      "outputs": []
    },
    {
      "cell_type": "code",
      "source": [
        "print(number)\n",
        "# sorting\n",
        "print(sorted(number))\n",
        "\n",
        "# add two tupple\n",
        "\n",
        "name = (\"Messi\",\"Di Maria\",\"Aguero\",\"Mascherano\")\n",
        "jersy =(10,11,9,4)\n",
        "\n",
        "name_jersy = name+jersy\n",
        "print(name_jersy)"
      ],
      "metadata": {
        "id": "NsHHRrF-U47t"
      },
      "execution_count": null,
      "outputs": []
    },
    {
      "cell_type": "code",
      "source": [
        "nam = (\"Neymar\",\"Ronaldinho\",\"Coutinho\",\"Dani Alves\")\n",
        "\n",
        "jersy = (11,10,8,2)\n",
        "nam_jersy =(nam, jersy)\n",
        "print(nam_jersy)\n",
        "\n",
        "club =(\"PSG\",\"Retire\",\"Aston villa\",\"Barcelona\")\n",
        "club_name = (nam+club)\n",
        "print(club_name)"
      ],
      "metadata": {
        "id": "bsiCUz1MVyjb"
      },
      "execution_count": null,
      "outputs": []
    },
    {
      "cell_type": "code",
      "source": [
        "cricket =(\"Dhoni\",\"Ganguly\",\"Lee\")\n",
        "print(cricket)\n",
        "\n",
        "print(\"Dhoni\" in cricket)\n",
        "cricket.insert(3,\"lee\")\n",
        "print(cricket.insert)\n",
        "\n"
      ],
      "metadata": {
        "id": "J6ual6cbXqqo"
      },
      "execution_count": null,
      "outputs": []
    },
    {
      "cell_type": "code",
      "source": [
        "print(cricket.reverse)"
      ],
      "metadata": {
        "id": "Y0Q9eQ1r0cwX"
      },
      "execution_count": null,
      "outputs": []
    },
    {
      "cell_type": "markdown",
      "source": [
        "**SET**"
      ],
      "metadata": {
        "id": "JTyRnjlv2JoG"
      }
    },
    {
      "cell_type": "code",
      "source": [
        "setA = {8,9,11,5,6,8,2,8}\n",
        "print(type(setA))\n",
        "\n",
        "setB = {11,12,8 ,5,9,22,8}\n",
        "print(type(setB))\n",
        "\n",
        "#union\n",
        "setC = setA.union(setB)\n",
        "print(setC)\n",
        "\n",
        "#intersection\n",
        "setD = setB.intersection(setA)\n",
        "print(setD)\n",
        "\n",
        "#difference\n",
        "setE = setA.difference(setD)\n",
        "print(setE)"
      ],
      "metadata": {
        "id": "s6moBXPX1PbC"
      },
      "execution_count": null,
      "outputs": []
    },
    {
      "cell_type": "markdown",
      "source": [
        "Dictionary"
      ],
      "metadata": {
        "id": "BTMd3fqeZn-c"
      }
    },
    {
      "cell_type": "code",
      "source": [
        "contacts = {\"sou\": 888,\n",
        "            \"mou\": 666,\n",
        "            \"rou\": 777,\n",
        "            \"tou\": 999}\n",
        "print(contacts)\n",
        "print(type(contacts))"
      ],
      "metadata": {
        "id": "T1jnfpXJ4xJk"
      },
      "execution_count": null,
      "outputs": []
    },
    {
      "cell_type": "code",
      "source": [
        "print(contacts.keys())\n",
        "print(contacts.values())\n"
      ],
      "metadata": {
        "id": "D7i_0EDPant6"
      },
      "execution_count": null,
      "outputs": []
    },
    {
      "cell_type": "code",
      "source": [
        "print(contacts[\"sou\"])\n",
        "\n",
        "contacts[\"sou\"] = 111\n",
        "print(contacts)\n",
        "\n",
        "contacts[\"sou\"] = [888]\n",
        "print(contacts)\n"
      ],
      "metadata": {
        "id": "Ieq4yskKbYPk"
      },
      "execution_count": null,
      "outputs": []
    },
    {
      "cell_type": "code",
      "source": [
        "contacts[\"sou\"] = [888,111]\n",
        "print(contacts)"
      ],
      "metadata": {
        "id": "dCtT7po8bfTu"
      },
      "execution_count": null,
      "outputs": []
    },
    {
      "cell_type": "code",
      "source": [
        "new_contacts = {\"pou\": 333}\n",
        "print(new_contacts)\n",
        "contacts.update(new_contacts)\n",
        "print(contacts)"
      ],
      "metadata": {
        "id": "QLgbfBWedBn3"
      },
      "execution_count": null,
      "outputs": []
    },
    {
      "cell_type": "code",
      "source": [
        "del contacts [\"tou\"]\n",
        "print(contacts)"
      ],
      "metadata": {
        "id": "tMpwNCxwepcP"
      },
      "execution_count": null,
      "outputs": []
    },
    {
      "cell_type": "code",
      "source": [
        ""
      ],
      "metadata": {
        "id": "i0H1fD-9grRB"
      },
      "execution_count": null,
      "outputs": []
    }
  ]
}