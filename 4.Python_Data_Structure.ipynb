{
  "nbformat": 4,
  "nbformat_minor": 0,
  "metadata": {
    "colab": {
      "name": "Python Data Structure.ipynb",
      "private_outputs": true,
      "provenance": [],
      "authorship_tag": "ABX9TyPBJEZgH3XW4G+QRnhR8Ofi",
      "include_colab_link": true
    },
    "kernelspec": {
      "name": "python3",
      "display_name": "Python 3"
    },
    "language_info": {
      "name": "python"
    }
  },
  "cells": [
    {
      "cell_type": "markdown",
      "metadata": {
        "id": "view-in-github",
        "colab_type": "text"
      },
      "source": [
        "<a href=\"https://colab.research.google.com/github/Sourish8/python_for_beginner/blob/main/4.Python_Data_Structure.ipynb\" target=\"_parent\"><img src=\"https://colab.research.google.com/assets/colab-badge.svg\" alt=\"Open In Colab\"/></a>"
      ]
    },
    {
      "cell_type": "markdown",
      "source": [
        "**Python Data Structure : List , Tupple , Set , Dictionary**"
      ],
      "metadata": {
        "id": "GIhBsVJWDXsF"
      }
    },
    {
      "cell_type": "markdown",
      "source": [
        "\n",
        "\n",
        "\n",
        "1.  **Changes List Elements**\n",
        "2.  **Add list elements**\n",
        "3.  **Remove list elements**\n",
        "\n",
        "\n",
        "\n",
        "\n",
        "\n",
        "\n",
        "\n",
        "\n",
        "\n",
        "\n",
        "\n",
        "\n",
        "\n",
        "\n"
      ],
      "metadata": {
        "id": "_kmVKcCjwJQy"
      }
    },
    {
      "cell_type": "code",
      "source": [
        "brothers = [\"Shimul\", 26, \"Saumik\", 25, \"Sourish\", 23, \"Deep\"]\n",
        "print(brothers)\n",
        "print(type(brothers))"
      ],
      "metadata": {
        "id": "_eSW9GvcHCrB"
      },
      "execution_count": null,
      "outputs": []
    },
    {
      "cell_type": "markdown",
      "source": [
        "**Check if the element presence in the string**"
      ],
      "metadata": {
        "id": "BZxbmN1W8eSh"
      }
    },
    {
      "cell_type": "code",
      "source": [
        "member = 25 in brothers\n",
        "print(member)\n",
        "print(\"sovik\" in brothers)"
      ],
      "metadata": {
        "id": "kRzlI_P68gKx"
      },
      "execution_count": null,
      "outputs": []
    },
    {
      "cell_type": "markdown",
      "source": [
        "**Checking length on a string**"
      ],
      "metadata": {
        "id": "oIfi3dof8GGf"
      }
    },
    {
      "cell_type": "code",
      "source": [
        "print(len(brothers))"
      ],
      "metadata": {
        "id": "xAMisHoT8HH8"
      },
      "execution_count": null,
      "outputs": []
    },
    {
      "cell_type": "markdown",
      "source": [
        "**List Slicing**"
      ],
      "metadata": {
        "id": "sCM8swDZyq2x"
      }
    },
    {
      "cell_type": "code",
      "source": [
        "# [:6] is as same as [0:6]. we can also use [:6] as an alternate.\n",
        "print(brothers[0:6]) \n",
        "\n",
        "print(brothers[-2])\n",
        "\n",
        "print(brothers[-7:])"
      ],
      "metadata": {
        "id": "ZahOkEsMx-nB"
      },
      "execution_count": null,
      "outputs": []
    },
    {
      "cell_type": "markdown",
      "source": [
        "**Add list element**"
      ],
      "metadata": {
        "id": "-ZJuU9X37D6M"
      }
    },
    {
      "cell_type": "code",
      "source": [
        "brothers.append(21)\n",
        "print(brothers)\n",
        "\n",
        "brothers.append(\"sovik\")\n",
        "print(brothers)"
      ],
      "metadata": {
        "id": "mQwL3QSGyxCS"
      },
      "execution_count": null,
      "outputs": []
    },
    {
      "cell_type": "markdown",
      "source": [
        "**Remove list element**"
      ],
      "metadata": {
        "id": "vs_QVCLJ7PbZ"
      }
    },
    {
      "cell_type": "code",
      "source": [
        "brothers.remove(\"sovik\")\n",
        "print(brothers)"
      ],
      "metadata": {
        "id": "H20f40APzruw"
      },
      "execution_count": null,
      "outputs": []
    },
    {
      "cell_type": "markdown",
      "source": [
        "**Reverse list element**"
      ],
      "metadata": {
        "id": "LIDxl74j699a"
      }
    },
    {
      "cell_type": "code",
      "source": [
        "brothers.reverse()\n",
        "print(brothers)"
      ],
      "metadata": {
        "id": "IoI2by9Z2Kz8"
      },
      "execution_count": null,
      "outputs": []
    },
    {
      "cell_type": "markdown",
      "source": [
        "**Sorting**"
      ],
      "metadata": {
        "id": "PsRtvGP3AGIK"
      }
    },
    {
      "cell_type": "code",
      "source": [
        "odd = [15,3,35,87,99,21,-1,-7]\n",
        "print(odd)\n",
        "print(sorted(odd))"
      ],
      "metadata": {
        "id": "KzyobeEx7Wv9"
      },
      "execution_count": null,
      "outputs": []
    },
    {
      "cell_type": "code",
      "source": [
        "print(sorted(odd, reverse = True))  #Dscending\n",
        "print(sorted(odd, reverse = False)) #ascending  Default"
      ],
      "metadata": {
        "id": "zkPy38-nAjff"
      },
      "execution_count": null,
      "outputs": []
    },
    {
      "cell_type": "markdown",
      "source": [
        "**How to find the minimum value, maximum value and total sum of a list?**"
      ],
      "metadata": {
        "id": "qabM8v4vF5n5"
      }
    },
    {
      "cell_type": "code",
      "source": [
        "even = [10,88,28,2,-8,-4]\n",
        "print(even)\n",
        "print(max(even))\n",
        "print(sum(even))\n",
        "print(min(even))"
      ],
      "metadata": {
        "id": "0yI3jMUSF01Z"
      },
      "execution_count": null,
      "outputs": []
    },
    {
      "cell_type": "markdown",
      "source": [
        "**What will happen if we add two list?**"
      ],
      "metadata": {
        "id": "Pv-oPPlOC5US"
      }
    },
    {
      "cell_type": "code",
      "source": [
        "name = [\"sourish\",\"tilok\",\"antu\",\"niloy\",\"anwar\",\"pritom\",\"mithun\"]\n",
        "number = [8,10,1,9,7,6,4]\n",
        "jersy = name + number\n",
        "print(jersy)"
      ],
      "metadata": {
        "id": "RDDKbitFA4V5"
      },
      "execution_count": null,
      "outputs": []
    },
    {
      "cell_type": "markdown",
      "source": [
        "**How to count the frequency of a specific element in a list?**"
      ],
      "metadata": {
        "id": "VggcNokRF8mP"
      }
    },
    {
      "cell_type": "code",
      "source": [
        "even = [10,88,8,10,8,12,-4,2,8,2,-8,-4]\n",
        "print(len(even))\n",
        "\n",
        "print(even.count(8))\n",
        "\n",
        "print(even.index(8,5,12))"
      ],
      "metadata": {
        "id": "N0FVfLO7GObL"
      },
      "execution_count": null,
      "outputs": []
    },
    {
      "cell_type": "markdown",
      "source": [
        "**Insert a new element in the list**"
      ],
      "metadata": {
        "id": "d-8lWOG6GSEp"
      }
    },
    {
      "cell_type": "code",
      "source": [
        ""
      ],
      "metadata": {
        "id": "cIix7cB8GfY2"
      },
      "execution_count": null,
      "outputs": []
    }
  ]
}