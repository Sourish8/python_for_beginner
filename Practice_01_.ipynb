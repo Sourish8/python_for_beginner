{
  "nbformat": 4,
  "nbformat_minor": 0,
  "metadata": {
    "colab": {
      "name": "Copy of Practice_01..ipynb",
      "provenance": [],
      "collapsed_sections": [],
      "authorship_tag": "ABX9TyPHyoecwnmG5wKvVO9OlY5t",
      "include_colab_link": true
    },
    "kernelspec": {
      "name": "python3",
      "display_name": "Python 3"
    },
    "language_info": {
      "name": "python"
    }
  },
  "cells": [
    {
      "cell_type": "markdown",
      "metadata": {
        "id": "view-in-github",
        "colab_type": "text"
      },
      "source": [
        "<a href=\"https://colab.research.google.com/github/Sourish8/python_for_beginner/blob/main/Practice_01_.ipynb\" target=\"_parent\"><img src=\"https://colab.research.google.com/assets/colab-badge.svg\" alt=\"Open In Colab\"/></a>"
      ]
    },
    {
      "cell_type": "markdown",
      "source": [
        "**python data types** \n",
        "\n"
      ],
      "metadata": {
        "id": "-1S-ydy_DQAJ"
      }
    },
    {
      "cell_type": "code",
      "source": [
        "# comment in python is crtl+/\n",
        "# there are four types of data types in python \n",
        "# they are string, integer, floating , boolean\n",
        "\n",
        "name = \"Sourish Chowdhury\"\n",
        "print(\"My name is \",name)\n",
        "\n",
        "birth_yr = \"1999\"\n",
        "print(\"I was born in \", birth_yr)\n",
        "\n",
        "height = 5 + (9/12)\n",
        "print(\"my height is \", height ,\"feet\")\n",
        "\n",
        "student = True\n",
        "print(\"am i a student?:\" , student)"
      ],
      "metadata": {
        "id": "gOE_KMfO6dFc",
        "outputId": "c2dc8920-32b8-49fe-b8e5-0c0f64e63ca3",
        "colab": {
          "base_uri": "https://localhost:8080/"
        }
      },
      "execution_count": null,
      "outputs": [
        {
          "output_type": "stream",
          "name": "stdout",
          "text": [
            "My name is  Sourish Chowdhury\n",
            "I was born in  1999\n",
            "my height is  5.75 feet\n",
            "am i a student?: True\n"
          ]
        }
      ]
    },
    {
      "cell_type": "code",
      "source": [
        "print(type(name))\n",
        "print(type(birth_yr))\n",
        "print(type(student))\n",
        "print(type(height))"
      ],
      "metadata": {
        "id": "7M76uzPmDpGw",
        "outputId": "183ff7b1-e5ad-43f3-a343-c01ddf2b06de",
        "colab": {
          "base_uri": "https://localhost:8080/"
        }
      },
      "execution_count": null,
      "outputs": [
        {
          "output_type": "stream",
          "name": "stdout",
          "text": [
            "<class 'str'>\n",
            "<class 'str'>\n",
            "<class 'bool'>\n",
            "<class 'float'>\n"
          ]
        }
      ]
    },
    {
      "cell_type": "markdown",
      "source": [
        "Operators"
      ],
      "metadata": {
        "id": "UzRO-XOREVN5"
      }
    },
    {
      "cell_type": "markdown",
      "source": [
        "Mathmatical Operators\n",
        "\"+\" , \"-\" , \"*\" , \"/\" ."
      ],
      "metadata": {
        "id": "1oPN_H_-FF4N"
      }
    },
    {
      "cell_type": "code",
      "source": [
        "a = 8 \n",
        "b = 13\n",
        "# addition\n",
        "print(\"a+b = \", a+b)\n",
        "# substraction\n",
        "print(\"a-b = \", a-b)\n",
        "#multiplication\n",
        "print(\"a*b = \", a*b)\n",
        "#division\n",
        "print(\"a/b=\", a/b)"
      ],
      "metadata": {
        "colab": {
          "base_uri": "https://localhost:8080/"
        },
        "id": "xd6nHCT8GVgu",
        "outputId": "9b862f3c-f006-4852-b909-c7a6b1bff13d"
      },
      "execution_count": null,
      "outputs": [
        {
          "output_type": "stream",
          "name": "stdout",
          "text": [
            "a+b =  21\n",
            "a-b =  -5\n",
            "a*b =  104\n",
            "a/b= 0.6153846153846154\n"
          ]
        }
      ]
    },
    {
      "cell_type": "markdown",
      "source": [
        "Comparison Operators"
      ],
      "metadata": {
        "id": "yLkaBMbTHjFj"
      }
    },
    {
      "cell_type": "code",
      "source": [
        "a = 8 \n",
        "b = 7\n",
        "print (\"a>b =\" ,a>b)"
      ],
      "metadata": {
        "id": "SD23qxBcGlEg",
        "outputId": "f8e1a247-cfbb-4826-dd54-27fc29f38d57",
        "colab": {
          "base_uri": "https://localhost:8080/"
        }
      },
      "execution_count": null,
      "outputs": [
        {
          "output_type": "stream",
          "name": "stdout",
          "text": [
            "a>b = True\n"
          ]
        }
      ]
    },
    {
      "cell_type": "code",
      "source": [
        ""
      ],
      "metadata": {
        "id": "S8Y476KumT3V"
      },
      "execution_count": null,
      "outputs": []
    }
  ]
}