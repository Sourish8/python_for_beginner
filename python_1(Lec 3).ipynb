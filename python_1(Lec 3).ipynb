{
  "nbformat": 4,
  "nbformat_minor": 0,
  "metadata": {
    "colab": {
      "name": "python_1.ipynb",
      "private_outputs": true,
      "provenance": [],
      "collapsed_sections": [],
      "authorship_tag": "ABX9TyN8YZr9GMb2g1FFvzPNYQdt",
      "include_colab_link": true
    },
    "kernelspec": {
      "name": "python3",
      "display_name": "Python 3"
    },
    "language_info": {
      "name": "python"
    }
  },
  "cells": [
    {
      "cell_type": "markdown",
      "metadata": {
        "id": "view-in-github",
        "colab_type": "text"
      },
      "source": [
        "<a href=\"https://colab.research.google.com/github/Sourish8/python_for_beginner/blob/main/python_1(Lec%203).ipynb\" target=\"_parent\"><img src=\"https://colab.research.google.com/assets/colab-badge.svg\" alt=\"Open In Colab\"/></a>"
      ]
    },
    {
      "cell_type": "markdown",
      "source": [
        "**Data types**\n",
        "\n",
        "There are Four types of data type in python. \n",
        "they are :- \n",
        "1. Interger\n",
        "2. String\n",
        "3. Floating\n",
        "4. Boolean\n",
        "\n",
        "\n",
        "\n",
        "\n",
        "\n"
      ],
      "metadata": {
        "id": "lz0IEYOWui-C"
      }
    },
    {
      "cell_type": "code",
      "execution_count": null,
      "metadata": {
        "id": "jlPNPGt3mul_"
      },
      "outputs": [],
      "source": [
        "Name = \"Sourish Chowdhury\"\n",
        "print(\"My Name is \", Name)\n",
        "\n",
        "birth_yr = 1998\n",
        "print(\"I was born in\" , birth_yr)\n",
        "\n",
        "height = 5 + (9/12)\n",
        "print(\"My height is \", height)\n",
        "\n",
        "student = True\n",
        "print(\"Am i a student:\", student)\n"
      ]
    },
    {
      "cell_type": "code",
      "source": [
        "print(type(Name))\n",
        "print(type(birth_yr))\n",
        "print(type(height))\n",
        "print(type(student))"
      ],
      "metadata": {
        "id": "8bpSf51ptvqK"
      },
      "execution_count": null,
      "outputs": []
    },
    {
      "cell_type": "markdown",
      "source": [
        "**Mathnmatical Operation**\n",
        "\n",
        "1. addition(+)\n",
        "2. substraction(-)\n",
        "3. Multiplication(*)\n",
        "4. Division(/)\n",
        "5. Remainder (//)\n",
        "6. Square(**)"
      ],
      "metadata": {
        "id": "TSbngqD_vvKB"
      }
    },
    {
      "cell_type": "code",
      "source": [
        "a = 10\n",
        "b = 8\n",
        "\n",
        "#addition \n",
        "print(\"a+b=\",a+b)\n",
        "\n",
        "# Substraction\n",
        "print(\"a-b=\",a-b)\n",
        "\n",
        "#Multiplication\n",
        "print(\"a*b=\",a*b)\n",
        "\n",
        "# Division\n",
        "print(\"a/b=\",a/b)\n",
        "\n",
        "#Remainder\n",
        "print(\"b%a=\",b%a)\n",
        "\n",
        "#square\n",
        "print(\"a**2=\",a**2)\n",
        "\n",
        "print(\"a//b=\",a//b)\n"
      ],
      "metadata": {
        "id": "QbHyYxhkt_pk"
      },
      "execution_count": null,
      "outputs": []
    },
    {
      "cell_type": "markdown",
      "source": [
        "**Comparison Operator**\n",
        "\n",
        "1. Equals to(==)\n",
        "2. Not Equals to (!=) \n",
        "3. Less than (<) \n",
        "4. Greater than (>) \n",
        "5. Less than or Equal (<=)\n",
        "6. Greater than or Equal (>=)\n"
      ],
      "metadata": {
        "id": "TXIQrVsj5IkI"
      }
    },
    {
      "cell_type": "code",
      "source": [
        "a = 5\n",
        "b = 6\n",
        "c = 6\n",
        "\n",
        "print(\"a==c :\",a==c)\n",
        "print(\"a!=c :\",a!=c)\n",
        "print(\"c<b  :\",c<b)\n",
        "print(\"a<b:\",a<b)\n",
        "print(\"a>b:\",a>b)\n",
        "print(\"a<=b\",a<=b)\n",
        "print(\"a>=b:\",a>=b)\n",
        "print(\"b==c\",b==c)"
      ],
      "metadata": {
        "id": "GHF8RHhWwgJ5"
      },
      "execution_count": null,
      "outputs": []
    },
    {
      "cell_type": "markdown",
      "source": [
        "**Logical Operator**\n",
        "\n",
        "or & and"
      ],
      "metadata": {
        "id": "G5EBqA7O6tXI"
      }
    },
    {
      "cell_type": "code",
      "source": [
        "# OR Operation\n",
        "\n",
        "print(\"OR Operation\")\n",
        "print(False or False)\n",
        "print(True or False )\n",
        "print(False or True)\n",
        "print(True or True )\n",
        "\n",
        "\n",
        "# And Operation\n",
        "print(\"And Operation\")\n",
        "print(False and False)\n",
        "print(True and False )\n",
        "print(False and True)\n",
        "print(True and True )"
      ],
      "metadata": {
        "id": "8zYuS4pb51nj"
      },
      "execution_count": null,
      "outputs": []
    },
    {
      "cell_type": "code",
      "source": [
        "a= 8\n",
        "b = 18\n",
        "\n",
        "print(a<b and a>b)\n",
        "print(a>b or b<a)\n",
        "print(a==b and not a!=b)"
      ],
      "metadata": {
        "id": "CaA1_E367JgU"
      },
      "execution_count": null,
      "outputs": []
    },
    {
      "cell_type": "markdown",
      "source": [
        "**Member Operator**\n",
        "in , not in"
      ],
      "metadata": {
        "id": "VcBuz9Ku-nhB"
      }
    },
    {
      "cell_type": "code",
      "source": [
        "nam = \"ball\"\n",
        "name2 =\"football\"\n",
        "\n",
        "mem = nam in name2\n",
        "print(mem)"
      ],
      "metadata": {
        "id": "O8yYQzLw-mKj"
      },
      "execution_count": null,
      "outputs": []
    },
    {
      "cell_type": "markdown",
      "source": [
        "**How to capitalize the first Character of string.**"
      ],
      "metadata": {
        "id": "c10Y8gQaVc3K"
      }
    },
    {
      "cell_type": "code",
      "source": [
        "var = \"do you like football?\"\n",
        "print(var)\n",
        "\n",
        "#       \"CAPITALIZE\"\n",
        "update_var = var.capitalize()\n",
        "print(update_var)\n",
        "\n",
        "#       \"STARTSWITH\"\n",
        "up_var = var.startswith(\"D\")\n",
        "print(up_var)\n",
        "\n",
        "#       \"ENDSWITH\"\n",
        "up_var1 = var.endswith(\"l\")\n",
        "print(up_var1)"
      ],
      "metadata": {
        "id": "kE1pH5RTThtF"
      },
      "execution_count": null,
      "outputs": []
    },
    {
      "cell_type": "markdown",
      "source": [
        "**How to find the frequency of the substring in String**\n",
        "\n",
        "Substring: একটা স্ট্রিং এ ব্যাবহৃত সবগুলো ক্যারেক্টারি এক একটা সাবস্ট্রিং। \n",
        "যেমনঃ \"Messi\" তে ব্যাবহৃত \"mes\",\"es\", \"esi\" , \" i\" ,\"e\" ইত্যাদি সবগুলোই সাবস্ট্রিং।"
      ],
      "metadata": {
        "id": "i80fVsTeixLV"
      }
    },
    {
      "cell_type": "code",
      "source": [
        "var = \"Lionel Messi is the Greatest of all time\"\n",
        "print(var)\n",
        "\n",
        "var_count=var.count(\"s\")\n",
        "print(\"The frequency of the substring 's' in string is:\", var_count)\n",
        "vr_count =var.count(\"l\")\n",
        "print(\"The frequency of the substring 'l' in string is:\", vr_count)\n",
        "\n",
        "vr_count1 = var.count(\"Messi\")\n",
        "print(\"The frequency of the substring 'Messi' in string is:\", vr_count1)"
      ],
      "metadata": {
        "id": "i7llvnq9X19Q"
      },
      "execution_count": null,
      "outputs": []
    },
    {
      "cell_type": "markdown",
      "source": [
        "**N:B:** Python is a 0- index based programming Language. "
      ],
      "metadata": {
        "id": "pTKTW_p4RBMI"
      }
    },
    {
      "cell_type": "code",
      "source": [
        "variable = \"I love my country very much\"\n",
        "print(variable)\n",
        "print(len(variable))\n",
        "print(variable[0])\n",
        "print(variable[-1])\n",
        "print(variable[:14])\n",
        "print(variable[14:27])\n",
        "print(variable[-27:])\n",
        "\n",
        "print(variable[2:6])\n",
        "print(variable[-25:-20])"
      ],
      "metadata": {
        "id": "ZHINDRIm_7ok"
      },
      "execution_count": null,
      "outputs": []
    },
    {
      "cell_type": "markdown",
      "source": [
        "\n",
        "\n",
        "**How to find the index of a specified character in the string**\n"
      ],
      "metadata": {
        "id": "oA5Y-8N2-mR6"
      }
    },
    {
      "cell_type": "code",
      "source": [
        "name = \"Ibrahimovic is a man with attitude.\"\n",
        "print(name)\n",
        "print(\"Position of i in the string is:\",name.index(\"i\"))\n",
        "print(\"Position of i in the string is:\",name.find(\"i\"))\n",
        "\n",
        "print(\"Position of m in the string is:\",name.index(\"m\"))\n",
        "print(\"Position of I in the string is:\",name.find(\"I\"))"
      ],
      "metadata": {
        "id": "jTSM_sqsCBca"
      },
      "execution_count": null,
      "outputs": []
    },
    {
      "cell_type": "code",
      "source": [
        "tt = \"Happy New Year\"\n",
        "print(len(tt))\n",
        "print(tt.index(\"a\",0,14))"
      ],
      "metadata": {
        "id": "dDaRG0JF_nXq"
      },
      "execution_count": null,
      "outputs": []
    },
    {
      "cell_type": "markdown",
      "source": [
        "**How to convert a string into upper and lower case character**\n",
        "\n",
        "Why we use upper and lower case in data science?\n",
        "\n",
        "NLP: Natural Language Processing. natural language processing is a part of machine learning.\n",
        "\n",
        "NLP তে আমরা টেক্সট ডাটা নিয়ে কাজ করি। \n",
        "\n",
        "I played football.\n",
        "We are Playing cricket.\n",
        "\n",
        "এখানে played and Playing এই দুইটার বেইস হচ্ছে play. এখন আমরা যদি উপরের দুইটা Sentence লক্ষ্য করি তাহলে দেখতে পাব একটাতে play এর past form আরেকটাতে play Verb এর সাথে ing যুক্ত হয়ছে। এখন যখন language টা analysis করতে যাব তখন আমার দরকার এই বেইস play verb টা কতবার ব্যাবহার হয়ছে। যেহেতু এখানে একটা verb ক্যাপিটাল লেটার আরেকটা স্মল লেটারে আছে তাই প্রথমত দুইটা verb কেই একই ফরম্যাটে (Upper Case/lower Case) নিয়ে যেতে হবে। তারপর ওখান থেকে বেইস word টা find করতে হবে. এটাই মূলত upper & lower case এর অ্যাপ্লিকেশন। \n"
      ],
      "metadata": {
        "id": "nYbgOHpiQt_v"
      }
    },
    {
      "cell_type": "code",
      "source": [
        "text =\"ZlatanIbrahimovic\"\n",
        "print(\"text\")\n",
        "\n",
        "print(text.upper())\n",
        "print(text.lower())\n",
        "print(text.capitalize())"
      ],
      "metadata": {
        "id": "cbc4O7Q2N2Eo"
      },
      "execution_count": null,
      "outputs": []
    },
    {
      "cell_type": "code",
      "source": [
        "text = \"We are playing football everyday.\"\n",
        "txt = \"I Played football yesterday.\"\n",
        "\n",
        "print(text)\n",
        "print(text.find(\"play\"))\n",
        "print(txt)\n",
        "print(txt.find(\"play\"))\n",
        "\n",
        "#########################################\n",
        "\n",
        "x= text.lower()\n",
        "x1= txt.lower()\n",
        "print(x)\n",
        "print(x1)\n",
        "\n",
        "print(x.find(\"play\"))\n",
        "print(x1.find(\"play\"))\n"
      ],
      "metadata": {
        "id": "Ev3Gtg_aO5VQ"
      },
      "execution_count": null,
      "outputs": []
    },
    {
      "cell_type": "code",
      "source": [
        "print(\"Telcommunication Engineering\".lower() == \"telcommunication engineering\")\n",
        "print(\"Telcommunication Engineering\" ==  \"Telcommunication Engineering \".rstrip())\n",
        "print(\"Telcommunication Engineering\" == \"Telcommunication Enginering\")\n",
        "print(\"Telcommunication Engineering\" ==\"Telcommunication Engineering\" )"
      ],
      "metadata": {
        "id": "BD7cpotKVk6n"
      },
      "execution_count": null,
      "outputs": []
    },
    {
      "cell_type": "markdown",
      "source": [
        ""
      ],
      "metadata": {
        "id": "VnZwrJlfLmsf"
      }
    },
    {
      "cell_type": "markdown",
      "source": [
        "\n",
        "\n",
        "**How to remove a space from a string.**"
      ],
      "metadata": {
        "id": "w1dHeSVm5RKX"
      }
    },
    {
      "cell_type": "code",
      "source": [
        "print(\" Sourish\".lstrip() == \"Sourish \".rstrip())"
      ],
      "metadata": {
        "id": "uDlYtCgBkdPc"
      },
      "execution_count": null,
      "outputs": []
    },
    {
      "cell_type": "markdown",
      "source": [
        "**How to replace a substring inside string**"
      ],
      "metadata": {
        "id": "Kwc18sY7BKbt"
      }
    },
    {
      "cell_type": "code",
      "source": [
        "text = \"Honesty is the bst policy\"\n",
        "print(text.find(\"best\"))\n",
        "\n",
        "text=text.replace(\"bst\",\"best\")\n",
        "print(text)\n",
        "print(text.find(\"best\"))"
      ],
      "metadata": {
        "id": "RfiWqjBjBAlM"
      },
      "execution_count": null,
      "outputs": []
    },
    {
      "cell_type": "markdown",
      "source": [
        "**How to find the presence of alphabet , alphanumeric character or digit?**"
      ],
      "metadata": {
        "id": "VrSPCmPeLVmw"
      }
    },
    {
      "cell_type": "code",
      "source": [
        "name = \"sourish8\"\n",
        "print(name)\n",
        "\n",
        "print(name.isalnum())\n",
        "print(name.isnumeric())\n",
        "print(name.isalpha())\n",
        "print(name.isdigit())\n",
        "print(name.isupper())\n",
        "print(name.islower())"
      ],
      "metadata": {
        "id": "mY_lsuQxGQt4"
      },
      "execution_count": null,
      "outputs": []
    },
    {
      "cell_type": "code",
      "source": [
        ""
      ],
      "metadata": {
        "id": "PgFusURRz4z9"
      },
      "execution_count": null,
      "outputs": []
    }
  ]
}