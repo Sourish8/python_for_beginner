{
  "nbformat": 4,
  "nbformat_minor": 0,
  "metadata": {
    "colab": {
      "name": "Untitled0.ipynb",
      "private_outputs": true,
      "provenance": [],
      "authorship_tag": "ABX9TyMm/Za16dMvXOrs4ujq3wP5",
      "include_colab_link": true
    },
    "kernelspec": {
      "name": "python3",
      "display_name": "Python 3"
    },
    "language_info": {
      "name": "python"
    }
  },
  "cells": [
    {
      "cell_type": "markdown",
      "metadata": {
        "id": "view-in-github",
        "colab_type": "text"
      },
      "source": [
        "<a href=\"https://colab.research.google.com/github/Sourish8/python_for_beginner/blob/main/practices.ipynb\" target=\"_parent\"><img src=\"https://colab.research.google.com/assets/colab-badge.svg\" alt=\"Open In Colab\"/></a>"
      ]
    },
    {
      "cell_type": "code",
      "execution_count": null,
      "metadata": {
        "id": "ae23h7An7myO"
      },
      "outputs": [],
      "source": [
        "gpa = [\"Niloy\", 5.0, \"Sourish\", 4.89 ,\"Mithun\", 4.83,\"Tilok\", 4.83, \"Anwar\", 4.75]\n",
        "print(gpa)\n",
        "print(type(gpa))\n",
        "print(len(gpa))"
      ]
    },
    {
      "cell_type": "code",
      "source": [
        "print(gpa[4])\n",
        "print(len(gpa[2]))\n",
        "print(gpa[3:9])\n",
        "print(gpa[-3])\n",
        "print(gpa[-4:])"
      ],
      "metadata": {
        "id": "Uwsm8jBJ8qdJ"
      },
      "execution_count": null,
      "outputs": []
    },
    {
      "cell_type": "code",
      "source": [
        "gpa.append(\"pritom\")\n",
        "print(gpa)"
      ],
      "metadata": {
        "id": "KPS4yao88xNc"
      },
      "execution_count": null,
      "outputs": []
    },
    {
      "cell_type": "code",
      "source": [
        "gpa.remove(\"pritom\")\n",
        "print(gpa)"
      ],
      "metadata": {
        "id": "vDpDR5PZ9vip"
      },
      "execution_count": null,
      "outputs": []
    },
    {
      "cell_type": "code",
      "source": [
        "gpa.reverse()\n",
        "print(gpa)"
      ],
      "metadata": {
        "id": "w8i99tqo93RI"
      },
      "execution_count": null,
      "outputs": []
    },
    {
      "cell_type": "code",
      "source": [
        "print(gpa)\n",
        "# gpa.reverse()\n",
        "print(gpa)\n",
        "print(len(gpa))\n",
        "gpa.insert(11,4.89)\n",
        "print(gpa)\n",
        "\n",
        "gpa_1 = [\"mithun\",4.83]\n",
        "\n",
        "GPA = gpa+gpa_1\n",
        "print(GPA)\n",
        "\n",
        "print(GPA.count(4.89))"
      ],
      "metadata": {
        "id": "d5zVsVv6BlqT"
      },
      "execution_count": null,
      "outputs": []
    },
    {
      "cell_type": "code",
      "source": [
        "roll = [6,88,-4,-25,15,24,48]\n",
        "print(roll)\n",
        "print(sorted(roll))\n",
        "print(sorted(roll, reverse = True))\n",
        "print(sum(roll))\n",
        "print(max(roll))\n",
        "print(min(roll))"
      ],
      "metadata": {
        "id": "k4c6UwVl9_SF"
      },
      "execution_count": null,
      "outputs": []
    },
    {
      "cell_type": "code",
      "source": [
        "name = [\"tilok\",\"niloy\",\"antu\",\"anwar\",\"mithun\",\"pritom\",\"sourish\"]\n",
        "print(len(name))\n",
        "print(name)\n",
        "title = [\"barua\",\"talukder\",\"mallick\",\"hossain\",\"das\",\"karmakar\",\"chowdhury\"]\n",
        "print(title)\n",
        "\n",
        "name_title = [name, title]\n",
        "print(name_title)\n",
        "print(len(name_title))\n",
        "print(name_title[0])\n",
        "print(name_title[0][5])\n",
        "\n",
        "print(\"mithun\" in name_title)"
      ],
      "metadata": {
        "id": "AM9MUB1q_MpX"
      },
      "execution_count": null,
      "outputs": []
    },
    {
      "cell_type": "code",
      "source": [
        ""
      ],
      "metadata": {
        "id": "B-PecbrIASkO"
      },
      "execution_count": null,
      "outputs": []
    }
  ]
}